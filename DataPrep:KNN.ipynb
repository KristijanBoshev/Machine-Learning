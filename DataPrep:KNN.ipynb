{
 "cells": [
  {
   "cell_type": "code",
   "execution_count": 2,
   "metadata": {},
   "outputs": [
    {
     "ename": "TypeError",
     "evalue": "__init__() got an unexpected keyword argument 'executable_path'",
     "output_type": "error",
     "traceback": [
      "\u001b[0;31m---------------------------------------------------------------------------\u001b[0m",
      "\u001b[0;31mTypeError\u001b[0m                                 Traceback (most recent call last)",
      "\u001b[0;32m/var/folders/18/2qvtzbvx3gj8284cbq2q0mvh0000gn/T/ipykernel_9315/1462303541.py\u001b[0m in \u001b[0;36m<module>\u001b[0;34m\u001b[0m\n\u001b[1;32m      6\u001b[0m \u001b[0;34m\u001b[0m\u001b[0m\n\u001b[1;32m      7\u001b[0m \u001b[0;31m# Initialize the web driver (you should provide the path to your driver)\u001b[0m\u001b[0;34m\u001b[0m\u001b[0;34m\u001b[0m\u001b[0m\n\u001b[0;32m----> 8\u001b[0;31m \u001b[0mdriver\u001b[0m \u001b[0;34m=\u001b[0m \u001b[0mwebdriver\u001b[0m\u001b[0;34m.\u001b[0m\u001b[0mChrome\u001b[0m\u001b[0;34m(\u001b[0m\u001b[0mexecutable_path\u001b[0m\u001b[0;34m=\u001b[0m\u001b[0;34m'your/path/to/chromedriver'\u001b[0m\u001b[0;34m)\u001b[0m\u001b[0;34m\u001b[0m\u001b[0;34m\u001b[0m\u001b[0m\n\u001b[0m\u001b[1;32m      9\u001b[0m \u001b[0;34m\u001b[0m\u001b[0m\n\u001b[1;32m     10\u001b[0m \u001b[0;31m# Define the URL to scrape\u001b[0m\u001b[0;34m\u001b[0m\u001b[0;34m\u001b[0m\u001b[0m\n",
      "\u001b[0;31mTypeError\u001b[0m: __init__() got an unexpected keyword argument 'executable_path'"
     ]
    }
   ],
   "source": [
    "import time\n",
    "import matplotlib.pyplot as plt\n",
    "from selenium import webdriver\n",
    "from selenium.webdriver.common.by import By\n",
    "from selenium.webdriver.common.keys import Keys\n",
    "\n",
    "# Initialize the web driver (you should provide the path to your driver)\n",
    "driver = webdriver.Chrome(executable_path='your/path/to/chromedriver')\n",
    "\n",
    "# Define the URL to scrape\n",
    "url = \"https://www.ebay.com/sch/i.html?_from=R40&_trksid=p2380057.m570.l1313&_nkw=graphic+cards&_sacat=0\"\n",
    "\n",
    "# Open the URL in the browser\n",
    "driver.get(url)\n",
    "\n",
    "# Define lists to store the data\n",
    "product_names = []\n",
    "product_prices = []\n",
    "product_ratings = []\n",
    "\n",
    "# Loop through the first 3 pages\n",
    "for page in range(3):\n",
    "    # Wait for some time to let the page load\n",
    "    time.sleep(5)\n",
    "    \n",
    "    # Find all product containers with a rating\n",
    "    products = driver.find_elements(By.XPATH, \"//div[@class='s-item__info']\")\n",
    "\n",
    "    for product in products:\n",
    "        name = product.find_element(By.XPATH, \".//h3\").text\n",
    "        price = product.find_element(By.XPATH, \".//span[contains(@class, 's-item__price')]\").text\n",
    "        rating = product.find_element(By.XPATH, \".//span[contains(@class, 's-item__etrs')]\").text\n",
    "\n",
    "        product_names.append(name)\n",
    "        product_prices.append(price)\n",
    "        product_ratings.append(rating)\n",
    "\n",
    "    # Navigate to the next page\n",
    "    next_button = driver.find_element(By.XPATH, \"//a[contains(@class, 'pagination__next')]\")\n",
    "    if next_button:\n",
    "        next_button.click()\n",
    "    else:\n",
    "        break\n",
    "\n",
    "# Close the browser\n",
    "driver.quit()\n",
    "\n",
    "# Plot a histogram of product data\n",
    "plt.figure(figsize=(12, 6))\n",
    "plt.hist(product_names, bins=10, alpha=0.5, label='Product Names')\n",
    "plt.hist(product_prices, bins=10, alpha=0.5, label='Product Prices')\n",
    "plt.hist(product_ratings, bins=10, alpha=0.5, label='Product Ratings')\n",
    "\n",
    "plt.xlabel('Data')\n",
    "plt.ylabel('Frequency')\n",
    "plt.title('Product Data Histogram')\n",
    "plt.legend()\n",
    "plt.xticks(rotation=90)\n",
    "plt.show()"
   ]
  }
 ],
 "metadata": {
  "kernelspec": {
   "display_name": "base",
   "language": "python",
   "name": "python3"
  },
  "language_info": {
   "codemirror_mode": {
    "name": "ipython",
    "version": 3
   },
   "file_extension": ".py",
   "mimetype": "text/x-python",
   "name": "python",
   "nbconvert_exporter": "python",
   "pygments_lexer": "ipython3",
   "version": "3.9.13"
  },
  "orig_nbformat": 4
 },
 "nbformat": 4,
 "nbformat_minor": 2
}
